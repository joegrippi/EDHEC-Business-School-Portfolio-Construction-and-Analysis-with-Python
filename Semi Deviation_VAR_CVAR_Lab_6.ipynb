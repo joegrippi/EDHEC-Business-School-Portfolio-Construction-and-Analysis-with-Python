{
 "cells": [
  {
   "cell_type": "markdown",
   "id": "c6c2df63",
   "metadata": {},
   "source": [
    "# Semi Deviation, VAR and CVAR"
   ]
  },
  {
   "cell_type": "code",
   "execution_count": 71,
   "id": "28e78302",
   "metadata": {},
   "outputs": [
    {
     "name": "stdout",
     "output_type": "stream",
     "text": [
      "The autoreload extension is already loaded. To reload it, use:\n",
      "  %reload_ext autoreload\n"
     ]
    }
   ],
   "source": [
    "import pandas as pd\n",
    "import edhec_risk_kit as erk\n",
    "\n",
    "%load_ext autoreload\n",
    "%autoreload 2\n",
    "# %matplotlib inline - if needed, should be loaded on the latest version of jupyter python"
   ]
  },
  {
   "cell_type": "code",
   "execution_count": 72,
   "id": "fb6bb90b",
   "metadata": {},
   "outputs": [],
   "source": [
    "hfi = erk.get_hfi_returns()"
   ]
  },
  {
   "cell_type": "code",
   "execution_count": 73,
   "id": "3fc69a7b",
   "metadata": {},
   "outputs": [
    {
     "data": {
      "text/plain": [
       "Convertible Arbitrage     0.016536\n",
       "CTA Global                0.023290\n",
       "Distressed Securities     0.017009\n",
       "Emerging Markets          0.032476\n",
       "Equity Market Neutral     0.008115\n",
       "Event Driven              0.016712\n",
       "Fixed Income Arbitrage    0.011517\n",
       "Global Macro              0.014694\n",
       "Long/Short Equity         0.019897\n",
       "Merger Arbitrage          0.009600\n",
       "Relative Value            0.011462\n",
       "Short Selling             0.047655\n",
       "Funds Of Funds            0.015536\n",
       "dtype: float64"
      ]
     },
     "execution_count": 73,
     "metadata": {},
     "output_type": "execute_result"
    }
   ],
   "source": [
    "hfi.std(ddof=0)"
   ]
  },
  {
   "cell_type": "code",
   "execution_count": 74,
   "id": "ece996c5",
   "metadata": {},
   "outputs": [
    {
     "data": {
      "text/plain": [
       "Convertible Arbitrage     0.019540\n",
       "CTA Global                0.012443\n",
       "Distressed Securities     0.015185\n",
       "Emerging Markets          0.028039\n",
       "Equity Market Neutral     0.009566\n",
       "Event Driven              0.015429\n",
       "Fixed Income Arbitrage    0.017763\n",
       "Global Macro              0.006579\n",
       "Long/Short Equity         0.014051\n",
       "Merger Arbitrage          0.008875\n",
       "Relative Value            0.012244\n",
       "Short Selling             0.027283\n",
       "Funds Of Funds            0.012122\n",
       "dtype: float64"
      ]
     },
     "execution_count": 74,
     "metadata": {},
     "output_type": "execute_result"
    }
   ],
   "source": [
    "hfi[hfi<0].std(ddof=0)"
   ]
  },
  {
   "cell_type": "code",
   "execution_count": 75,
   "id": "e5da4c70",
   "metadata": {},
   "outputs": [
    {
     "data": {
      "text/plain": [
       "Convertible Arbitrage     0.019540\n",
       "CTA Global                0.012443\n",
       "Distressed Securities     0.015185\n",
       "Emerging Markets          0.028039\n",
       "Equity Market Neutral     0.009566\n",
       "Event Driven              0.015429\n",
       "Fixed Income Arbitrage    0.017763\n",
       "Global Macro              0.006579\n",
       "Long/Short Equity         0.014051\n",
       "Merger Arbitrage          0.008875\n",
       "Relative Value            0.012244\n",
       "Short Selling             0.027283\n",
       "Funds Of Funds            0.012122\n",
       "dtype: float64"
      ]
     },
     "execution_count": 75,
     "metadata": {},
     "output_type": "execute_result"
    }
   ],
   "source": [
    "erk.semideviation(hfi)"
   ]
  },
  {
   "cell_type": "markdown",
   "id": "3067e190",
   "metadata": {},
   "source": [
    "# VaR and CVaR\n",
    "\n",
    "We'll look at three different ways to compute Value At Risk\n",
    "\n",
    "1. Historic VaR\n",
    "2. Parametric Gaussian VaR\n",
    "3. Modified (Cornish-Fisher) VaR"
   ]
  },
  {
   "cell_type": "code",
   "execution_count": 76,
   "id": "37dbf5c9",
   "metadata": {},
   "outputs": [
    {
     "data": {
      "text/plain": [
       "array([-0.01576, -0.03169, -0.01966, -0.04247, -0.00814, -0.02535,\n",
       "       -0.00787, -0.01499, -0.02598, -0.01047, -0.01174, -0.06783,\n",
       "       -0.02047])"
      ]
     },
     "execution_count": 76,
     "metadata": {},
     "output_type": "execute_result"
    }
   ],
   "source": [
    "import numpy as np\n",
    "np.percentile(hfi, 5, axis=0)"
   ]
  },
  {
   "cell_type": "code",
   "execution_count": 77,
   "id": "cd783e0b",
   "metadata": {},
   "outputs": [
    {
     "data": {
      "text/plain": [
       "Convertible Arbitrage     0.01576\n",
       "CTA Global                0.03169\n",
       "Distressed Securities     0.01966\n",
       "Emerging Markets          0.04247\n",
       "Equity Market Neutral     0.00814\n",
       "Event Driven              0.02535\n",
       "Fixed Income Arbitrage    0.00787\n",
       "Global Macro              0.01499\n",
       "Long/Short Equity         0.02598\n",
       "Merger Arbitrage          0.01047\n",
       "Relative Value            0.01174\n",
       "Short Selling             0.06783\n",
       "Funds Of Funds            0.02047\n",
       "dtype: float64"
      ]
     },
     "execution_count": 77,
     "metadata": {},
     "output_type": "execute_result"
    }
   ],
   "source": [
    "erk.var_historic(hfi)"
   ]
  },
  {
   "cell_type": "code",
   "execution_count": 78,
   "id": "6cd61810",
   "metadata": {},
   "outputs": [],
   "source": [
    "from scipy.stats import norm"
   ]
  },
  {
   "cell_type": "code",
   "execution_count": 79,
   "id": "87b11108",
   "metadata": {},
   "outputs": [
    {
     "data": {
      "text/plain": [
       "-1.6448536269514729"
      ]
     },
     "execution_count": 79,
     "metadata": {},
     "output_type": "execute_result"
    }
   ],
   "source": [
    "z = norm.ppf(0.05)\n",
    "z"
   ]
  },
  {
   "cell_type": "code",
   "execution_count": 80,
   "id": "aaf7c4e5",
   "metadata": {},
   "outputs": [
    {
     "data": {
      "text/plain": [
       "Convertible Arbitrage     0.021691\n",
       "CTA Global                0.034235\n",
       "Distressed Securities     0.021032\n",
       "Emerging Markets          0.047164\n",
       "Equity Market Neutral     0.008850\n",
       "Event Driven              0.021144\n",
       "Fixed Income Arbitrage    0.014579\n",
       "Global Macro              0.018766\n",
       "Long/Short Equity         0.026397\n",
       "Merger Arbitrage          0.010435\n",
       "Relative Value            0.013061\n",
       "Short Selling             0.080086\n",
       "Funds Of Funds            0.021292\n",
       "dtype: float64"
      ]
     },
     "execution_count": 80,
     "metadata": {},
     "output_type": "execute_result"
    }
   ],
   "source": [
    "erk.var_gaussian(hfi)"
   ]
  },
  {
   "cell_type": "code",
   "execution_count": 81,
   "id": "29afec24",
   "metadata": {},
   "outputs": [
    {
     "data": {
      "text/plain": [
       "<AxesSubplot:title={'center':'Hedge Fund Indices: VaR at 5%'}>"
      ]
     },
     "execution_count": 81,
     "metadata": {},
     "output_type": "execute_result"
    },
    {
     "data": {
      "image/png": "[encoded data removed]",
      "text/plain": [
       "<Figure size 432x288 with 1 Axes>"
      ]
     },
     "metadata": {
      "needs_background": "light"
     },
     "output_type": "display_data"
    }
   ],
   "source": [
    "var_table = [erk.var_gaussian(hfi),\n",
    "             erk.var_gaussian(hfi, modified=True),\n",
    "             erk.var_historic(hfi)]\n",
    "comparison = pd.concat(var_table, axis=1)\n",
    "comparison.columns = ['Gausion', 'Cornish-Fisher', 'Historic']\n",
    "comparison.plot.barh(title='Hedge Fund Indices: VaR at 5%')"
   ]
  },
  {
   "cell_type": "code",
   "execution_count": 85,
   "id": "6ffaf2f2",
   "metadata": {},
   "outputs": [
    {
     "data": {
      "text/plain": [
       "Short Selling             0.096821\n",
       "Emerging Markets          0.072364\n",
       "Long/Short Equity         0.041943\n",
       "CTA Global                0.041264\n",
       "Event Driven              0.038336\n",
       "Convertible Arbitrage     0.036550\n",
       "Distressed Securities     0.036429\n",
       "Funds Of Funds            0.033207\n",
       "Fixed Income Arbitrage    0.028257\n",
       "Relative Value            0.024650\n",
       "Global Macro              0.020629\n",
       "Merger Arbitrage          0.019143\n",
       "Equity Market Neutral     0.016879\n",
       "dtype: float64"
      ]
     },
     "execution_count": 85,
     "metadata": {},
     "output_type": "execute_result"
    }
   ],
   "source": [
    "erk.cvar_historic(hfi).sort_values(ascending=False)"
   ]
  },
  {
   "cell_type": "code",
   "execution_count": 86,
   "id": "3f4806e1",
   "metadata": {},
   "outputs": [
    {
     "data": {
      "text/plain": [
       "Equity Market Neutral     0.016879\n",
       "Merger Arbitrage          0.019143\n",
       "Global Macro              0.020629\n",
       "Relative Value            0.024650\n",
       "Fixed Income Arbitrage    0.028257\n",
       "Funds Of Funds            0.033207\n",
       "Distressed Securities     0.036429\n",
       "Convertible Arbitrage     0.036550\n",
       "Event Driven              0.038336\n",
       "CTA Global                0.041264\n",
       "Long/Short Equity         0.041943\n",
       "Emerging Markets          0.072364\n",
       "Short Selling             0.096821\n",
       "dtype: float64"
      ]
     },
     "execution_count": 86,
     "metadata": {},
     "output_type": "execute_result"
    }
   ],
   "source": [
    "erk.cvar_historic(hfi).sort_values(ascending=True)"
   ]
  },
  {
   "cell_type": "code",
   "execution_count": null,
   "id": "4afb1dab",
   "metadata": {},
   "outputs": [],
   "source": []
  }
 ],
 "metadata": {
  "kernelspec": {
   "display_name": "Python 3 (ipykernel)",
   "language": "python",
   "name": "python3"
  },
  "language_info": {
   "codemirror_mode": {
    "name": "ipython",
    "version": 3
   },
   "file_extension": ".py",
   "mimetype": "text/x-python",
   "name": "python",
   "nbconvert_exporter": "python",
   "pygments_lexer": "ipython3",
   "version": "3.9.7"
  }
 },
 "nbformat": 4,
 "nbformat_minor": 5
}
